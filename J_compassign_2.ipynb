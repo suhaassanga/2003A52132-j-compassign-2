{
  "nbformat": 4,
  "nbformat_minor": 0,
  "metadata": {
    "colab": {
      "name": "J-compassign-2.ipynb",
      "provenance": []
    },
    "kernelspec": {
      "name": "python3",
      "display_name": "Python 3"
    },
    "language_info": {
      "name": "python"
    }
  },
  "cells": [
    {
      "cell_type": "code",
      "metadata": {
        "colab": {
          "base_uri": "https://localhost:8080/"
        },
        "id": "YB7uX7PI0ZBN",
        "outputId": "975f4b98-9d56-401a-d3c9-e5275e5c141c"
      },
      "source": [
        "import numpy as np\n",
        "x1=[3.2,3.2,3.7,3.9,4,4,4.1,4.5,4.9,5.1,5.3,5.9,6]\n",
        "y=[54445,64445,57189,63218,55794,56957,57081,61111,67938,66029,83088,81363,93940]\n",
        "yp=[]\n",
        "e=[]\n",
        "m=[1235,1500,1850,2000]\n",
        "c=[1900,1950,2000,2100]\n",
        "def linear(m,c):\n",
        "  sum=0\n",
        "  for i in range(0,len(x1)):\n",
        "    yp.append(m*x1[i]+c)\n",
        "    g=(y[i]-yp[i])**2\n",
        "    sum=sum+g\n",
        "    e.append(g)\n",
        "    print('Mean square error is :',np.mod(sum,len(x1)))\n",
        "    sum=0    \n",
        "for i in range(0,1):\n",
        "   linear(m[i],c[i])"
      ],
      "execution_count": 13,
      "outputs": [
        {
          "output_type": "stream",
          "name": "stdout",
          "text": [
            "Mean square error is : 1.0\n",
            "Mean square error is : 4.0\n",
            "Mean square error is : 3.25\n",
            "Mean square error is : 12.25\n",
            "Mean square error is : 3\n",
            "Mean square error is : 4\n",
            "Mean square error is : 6.25\n",
            "Mean square error is : 6.25\n",
            "Mean square error is : 7.25\n",
            "Mean square error is : 3.25\n",
            "Mean square error is : 12.25\n",
            "Mean square error is : 0.25\n",
            "Mean square error is : 0\n"
          ]
        }
      ]
    },
    {
      "cell_type": "code",
      "metadata": {
        "id": "1Dzmd-yu0eOX"
      },
      "source": [
        ""
      ],
      "execution_count": null,
      "outputs": []
    }
  ]
}